{
 "cells": [
  {
   "cell_type": "markdown",
   "metadata": {},
   "source": [
    "## Genre Genie - Multi-label Classification with NLP\n",
    "### Part 3.1: Modeling using OneVsRest\n",
    "\n",
    "#### Tom Keith\n",
    "\n",
    "---\n",
    "\n",
    "**Goal:** Fit and optimize multi-label classification model on the train set. Finally, score on test set."
   ]
  },
  {
   "cell_type": "code",
   "execution_count": 1,
   "metadata": {},
   "outputs": [],
   "source": [
    "# Standard imports\n",
    "import numpy as np\n",
    "import pandas as pd\n",
    "pd.set_option('display.max_columns', 500)\n",
    "import matplotlib.pyplot as plt\n",
    "%matplotlib inline\n",
    "import joblib"
   ]
  },
  {
   "cell_type": "markdown",
   "metadata": {},
   "source": [
    "Import train and test dataframes from previous step. They are large files."
   ]
  },
  {
   "cell_type": "code",
   "execution_count": 2,
   "metadata": {},
   "outputs": [
    {
     "name": "stdout",
     "output_type": "stream",
     "text": [
      "Wall time: 29.3 s\n"
     ]
    }
   ],
   "source": [
    "%%time\n",
    "train = pd.read_csv('data/train_dataframe.tsv', sep='\\t', index_col=0)\n",
    "test = pd.read_csv('data/test_dataframe.tsv', sep='\\t', index_col=0)"
   ]
  },
  {
   "cell_type": "markdown",
   "metadata": {},
   "source": [
    "Put the genre and features names (which aren't words) into lists for easy use."
   ]
  },
  {
   "cell_type": "code",
   "execution_count": 3,
   "metadata": {},
   "outputs": [
    {
     "name": "stdout",
     "output_type": "stream",
     "text": [
      "22\n",
      "['g_action', 'g_adventure', 'g_animation', 'g_biography', 'g_comedy', 'g_crime', 'g_documentary', 'g_drama', 'g_family', 'g_fantasy', 'g_film-noir', 'g_history', 'g_horror', 'g_music', 'g_musical', 'g_mystery', 'g_romance', 'g_sci-fi', 'g_sport', 'g_thriller', 'g_war', 'g_western']\n"
     ]
    }
   ],
   "source": [
    "cols = list(train.columns.values)\n",
    "genre_cols = cols[-22:]\n",
    "print(len(genre_cols))\n",
    "print(genre_cols)"
   ]
  },
  {
   "cell_type": "code",
   "execution_count": 4,
   "metadata": {},
   "outputs": [],
   "source": [
    "f_names = cols[:8]"
   ]
  },
  {
   "cell_type": "markdown",
   "metadata": {},
   "source": [
    "Separate out X and y out of our train and test .tsv files. We want JUST the genre columns for `y` and everything except the genre columns for `X`."
   ]
  },
  {
   "cell_type": "code",
   "execution_count": 5,
   "metadata": {},
   "outputs": [],
   "source": [
    "X_train = train[train.columns[~train.columns.isin(genre_cols)]]\n",
    "y_train = train[train.columns[ train.columns.isin(genre_cols)]]\n",
    "\n",
    "X_test = test[test.columns[~test.columns.isin(genre_cols)]]\n",
    "y_test = test[test.columns[ test.columns.isin(genre_cols)]]"
   ]
  },
  {
   "cell_type": "markdown",
   "metadata": {},
   "source": [
    "---\n",
    "\n",
    "Before running a model, we need to scale our data. Both standard and min-max were tested, but standard scaler came out on top."
   ]
  },
  {
   "cell_type": "code",
   "execution_count": 8,
   "metadata": {},
   "outputs": [],
   "source": [
    "%%time\n",
    "# Scale data (Standard Scaler)\n",
    "from sklearn.preprocessing import StandardScaler \n",
    "my_standard_scaler = StandardScaler().fit(X_train)\n",
    "X_train_s = my_standard_scaler.transform(X_train)\n",
    "X_test_s = my_standard_scaler.transform(X_test)\n",
    "\n",
    "#joblib.dump(my_standard_scaler, 'models/my_standard_scaler.pkl')"
   ]
  },
  {
   "cell_type": "code",
   "execution_count": 98,
   "metadata": {},
   "outputs": [
    {
     "data": {
      "text/plain": [
       "['models/my_minmax_scaler.pkl']"
      ]
     },
     "execution_count": 98,
     "metadata": {},
     "output_type": "execute_result"
    }
   ],
   "source": [
    "# Scale data (MinMax Scaler)\n",
    "from sklearn.preprocessing import MinMaxScaler \n",
    "my_minmax_scaler = MinMaxScaler().fit(X_train)\n",
    "X_train_mm = my_minmax_scaler.transform(X_train)\n",
    "X_test_mm = my_minmax_scaler.transform(X_test)\n",
    "\n",
    "#joblib.dump(my_minmax_scaler, 'models/my_minmax_scaler.pkl')"
   ]
  },
  {
   "cell_type": "markdown",
   "metadata": {},
   "source": [
    "---\n",
    "\n",
    "### Please note\n",
    "MANY models were tested and pkl'd. Below is the optimized model. After that, everything below it is testing of other models, scalers, score grading, and tuning hyperparameters. I normally would not include all of them, but they remain for completeness.\n",
    "\n",
    "In the end, OneVsRest with Logistic Regression (C=0.01, solver='lbfgs') when scaled with a standard scaler was the best option."
   ]
  },
  {
   "cell_type": "code",
   "execution_count": 10,
   "metadata": {},
   "outputs": [],
   "source": [
    "import joblib\n",
    "#my_model = joblib.load('models/my_1vr_linear_svc_default.pkl')"
   ]
  },
  {
   "cell_type": "code",
   "execution_count": 9,
   "metadata": {},
   "outputs": [],
   "source": [
    "from sklearn.multiclass import OneVsRestClassifier\n",
    "from sklearn.svm import LinearSVC\n",
    "from sklearn.linear_model import LogisticRegression"
   ]
  },
  {
   "cell_type": "code",
   "execution_count": 113,
   "metadata": {},
   "outputs": [
    {
     "name": "stdout",
     "output_type": "stream",
     "text": [
      "[0.09696028 0.08988016 0.09786951 0.09476254 0.09476254]\n",
      "Fold 1: 0.09696028400266253\n",
      "Fold 2: 0.08988015978695073\n",
      "Fold 3: 0.09786950732356857\n",
      "Fold 4: 0.09476253883710609\n",
      "Fold 5: 0.09476253883710609\n",
      "Average Score:0.0948470057574788\n"
     ]
    }
   ],
   "source": [
    "from sklearn.model_selection import cross_val_score\n",
    "my_log_model = OneVsRestClassifier(LogisticRegression(random_state=123, solver='lbfgs', max_iter=3000, C=0.01, n_jobs=-1), n_jobs=-1)\n",
    "\n",
    "scores = cross_val_score(my_log_model, X_train_s, y_train, cv = 5)\n",
    "print(scores)\n",
    "\n",
    "for i in range(len(scores)) :\n",
    "    print(f\"Fold {i+1}: {scores[i]}\")\n",
    "print(f\"Average Score:{np.mean(scores)}\")"
   ]
  },
  {
   "cell_type": "code",
   "execution_count": 10,
   "metadata": {},
   "outputs": [
    {
     "name": "stdout",
     "output_type": "stream",
     "text": [
      "Wall time: 59.2 s\n"
     ]
    }
   ],
   "source": [
    "%%time\n",
    "my_log_model = OneVsRestClassifier(LogisticRegression(random_state=123, solver='lbfgs', max_iter=3000, C=0.01, n_jobs=-1), n_jobs=-1).fit(X_train_s, y_train)"
   ]
  },
  {
   "cell_type": "code",
   "execution_count": 11,
   "metadata": {},
   "outputs": [],
   "source": [
    "y_train_pred = my_log_model.predict(X_train_s)\n",
    "y_train_proba = my_log_model.predict_proba(X_train_s)\n",
    "y_test_pred = my_log_model.predict(X_test_s)\n",
    "y_test_proba = my_log_model.predict_proba(X_test_s)"
   ]
  },
  {
   "cell_type": "code",
   "execution_count": 13,
   "metadata": {},
   "outputs": [
    {
     "name": "stdout",
     "output_type": "stream",
     "text": [
      "Training score: 0.54290\n",
      "    Test score: 0.10558\n"
     ]
    }
   ],
   "source": [
    "from sklearn.metrics import accuracy_score\n",
    "print(f'Training score: {accuracy_score(y_train, y_train_pred):0.5f}')\n",
    "print(f'    Test score: {accuracy_score(y_test, y_test_pred):0.5f}')"
   ]
  },
  {
   "cell_type": "code",
   "execution_count": 16,
   "metadata": {},
   "outputs": [
    {
     "name": "stdout",
     "output_type": "stream",
     "text": [
      "0.8350  g_action\n",
      "0.8771  g_adventure\n",
      "0.9703  g_animation\n",
      "0.9397  g_biography\n",
      "0.7344  g_comedy\n",
      "0.8410  g_crime\n",
      "0.9730  g_documentary\n",
      "0.6931  g_drama\n",
      "0.9318  g_family\n",
      "0.9140  g_fantasy\n",
      "0.9892  g_film-noir\n",
      "0.9506  g_history\n",
      "0.9116  g_horror\n",
      "0.9384  g_music\n",
      "0.9657  g_musical\n",
      "0.8823  g_mystery\n",
      "0.7822  g_romance\n",
      "0.9369  g_sci-fi\n",
      "0.9794  g_sport\n",
      "0.7769  g_thriller\n",
      "0.9611  g_war\n",
      "0.9867  g_western\n"
     ]
    }
   ],
   "source": [
    "y_pred_df = pd.DataFrame(y_test_pred, columns=genre_cols)\n",
    "\n",
    "# Test set predictions\n",
    "for g in genre_cols:\n",
    "    score = accuracy_score(y_test[g], y_pred_df[g])\n",
    "    print(f'{score:0.4f}  {g}')"
   ]
  },
  {
   "cell_type": "markdown",
   "metadata": {},
   "source": [
    "\n",
    "---\n",
    "\n",
    "## Everything below is model testing and optimizing"
   ]
  },
  {
   "cell_type": "code",
   "execution_count": 79,
   "metadata": {},
   "outputs": [
    {
     "name": "stdout",
     "output_type": "stream",
     "text": [
      "Wall time: 22min 6s\n"
     ]
    }
   ],
   "source": [
    "%%time\n",
    "#my_model = OneVsRestClassifier(LinearSVC(random_state=123, max_iter=3000), n_jobs=-1).fit(X_train_s, y_train)"
   ]
  },
  {
   "cell_type": "code",
   "execution_count": 92,
   "metadata": {},
   "outputs": [
    {
     "name": "stderr",
     "output_type": "stream",
     "text": [
      "C:\\Users\\Tom\\Anaconda3\\lib\\site-packages\\sklearn\\externals\\joblib\\__init__.py:15: DeprecationWarning: sklearn.externals.joblib is deprecated in 0.21 and will be removed in 0.23. Please import this functionality directly from joblib, which can be installed with: pip install joblib. If this warning is raised when loading pickled models, you may need to re-serialize those models with scikit-learn 0.21+.\n",
      "  warnings.warn(msg, category=DeprecationWarning)\n"
     ]
    },
    {
     "data": {
      "text/plain": [
       "['models/my_1vr_linear_svc_default.pkl']"
      ]
     },
     "execution_count": 92,
     "metadata": {},
     "output_type": "execute_result"
    }
   ],
   "source": [
    "# EXPORT AND SAVE THE MODEL\n",
    "#joblib.dump(my_model, 'models/my_1vr_linear_svc_default.pkl')"
   ]
  },
  {
   "cell_type": "code",
   "execution_count": null,
   "metadata": {},
   "outputs": [],
   "source": [
    "y_pred = my_model.predict(X_test_s)"
   ]
  },
  {
   "cell_type": "code",
   "execution_count": 12,
   "metadata": {},
   "outputs": [],
   "source": [
    "y_train_pred = my_model.predict(X_train_s)"
   ]
  },
  {
   "cell_type": "code",
   "execution_count": 13,
   "metadata": {},
   "outputs": [
    {
     "data": {
      "text/plain": [
       "True"
      ]
     },
     "execution_count": 13,
     "metadata": {},
     "output_type": "execute_result"
    }
   ],
   "source": [
    "my_model.multilabel_\n",
    "#my_model.predict_proba(X_train_s)"
   ]
  },
  {
   "cell_type": "code",
   "execution_count": 90,
   "metadata": {},
   "outputs": [
    {
     "name": "stdout",
     "output_type": "stream",
     "text": [
      "Training score: 0.49665\n",
      "    Test score: 0.04367\n"
     ]
    }
   ],
   "source": [
    "from sklearn.metrics import accuracy_score\n",
    "print(f'Training score: {accuracy_score(y_train, y_train_pred):0.5f}')\n",
    "print(f'    Test score: {accuracy_score(y_test, y_pred):0.5f}')"
   ]
  },
  {
   "cell_type": "code",
   "execution_count": 14,
   "metadata": {},
   "outputs": [],
   "source": [
    "from sklearn.metrics import confusion_matrix\n",
    "from sklearn.metrics import accuracy_score\n",
    "from sklearn.metrics import precision_score\n",
    "from sklearn.metrics import recall_score\n",
    "from sklearn.metrics import f1_score\n",
    "from sklearn.metrics import multilabel_confusion_matrix"
   ]
  },
  {
   "cell_type": "code",
   "execution_count": 67,
   "metadata": {},
   "outputs": [
    {
     "data": {
      "text/plain": [
       "array([[7360,   70],\n",
       "       [  63,   18]], dtype=int64)"
      ]
     },
     "execution_count": 67,
     "metadata": {},
     "output_type": "execute_result"
    }
   ],
   "source": [
    "# Confusion Matrix\n",
    "cm = multilabel_confusion_matrix(y_test, y_pred)\n",
    "\n",
    "g_cm_list = []\n",
    "for g in cm:\n",
    "    g_cm_list.append(pd.DataFrame(g, columns=['Predicted Negative (0)', 'Predicted Positive (1)'], \\\n",
    "                 index=['True Negative (0)','True Positive (1)']))\n",
    "    \n",
    "g_cm_list[10].values"
   ]
  },
  {
   "cell_type": "code",
   "execution_count": 86,
   "metadata": {},
   "outputs": [],
   "source": [
    "y_train_pred_df = pd.DataFrame(y_train_pred)\n",
    "y_train_pred_df.columns = genre_cols\n",
    "y_pred_df = pd.DataFrame(y_pred)\n",
    "y_pred_df.columns = genre_cols"
   ]
  },
  {
   "cell_type": "code",
   "execution_count": 17,
   "metadata": {},
   "outputs": [
    {
     "name": "stdout",
     "output_type": "stream",
     "text": [
      "0.8350  g_action\n",
      "0.8771  g_adventure\n",
      "0.9703  g_animation\n",
      "0.9397  g_biography\n",
      "0.7344  g_comedy\n",
      "0.8410  g_crime\n",
      "0.9730  g_documentary\n",
      "0.6931  g_drama\n",
      "0.9318  g_family\n",
      "0.9140  g_fantasy\n",
      "0.9892  g_film-noir\n",
      "0.9506  g_history\n",
      "0.9116  g_horror\n",
      "0.9384  g_music\n",
      "0.9657  g_musical\n",
      "0.8823  g_mystery\n",
      "0.7822  g_romance\n",
      "0.9369  g_sci-fi\n",
      "0.9794  g_sport\n",
      "0.7769  g_thriller\n",
      "0.9611  g_war\n",
      "0.9867  g_western\n"
     ]
    }
   ],
   "source": [
    "test_acc_dict = {}\n",
    "# Test set predictions\n",
    "for g in genre_cols:\n",
    "    score = accuracy_score(y_test[g], y_pred_df[g])\n",
    "    test_acc_dict.update( {g[2:] : score} )\n",
    "    print(f'{score:0.4f}  {g}')"
   ]
  },
  {
   "cell_type": "code",
   "execution_count": 18,
   "metadata": {},
   "outputs": [],
   "source": [
    "test_scores = pd.DataFrame.from_dict(test_acc_dict, orient='index', columns=['score'])"
   ]
  },
  {
   "cell_type": "code",
   "execution_count": 19,
   "metadata": {},
   "outputs": [],
   "source": [
    "test_scores.to_csv('test_scores_last_model.csv', index_label='genre')"
   ]
  },
  {
   "cell_type": "code",
   "execution_count": 22,
   "metadata": {},
   "outputs": [],
   "source": [
    "coefs = my_model.coef_"
   ]
  },
  {
   "cell_type": "code",
   "execution_count": 75,
   "metadata": {},
   "outputs": [
    {
     "data": {
      "text/html": [
       "<div>\n",
       "<style scoped>\n",
       "    .dataframe tbody tr th:only-of-type {\n",
       "        vertical-align: middle;\n",
       "    }\n",
       "\n",
       "    .dataframe tbody tr th {\n",
       "        vertical-align: top;\n",
       "    }\n",
       "\n",
       "    .dataframe thead th {\n",
       "        text-align: right;\n",
       "    }\n",
       "</style>\n",
       "<table border=\"1\" class=\"dataframe\">\n",
       "  <thead>\n",
       "    <tr style=\"text-align: right;\">\n",
       "      <th></th>\n",
       "      <th>g_action</th>\n",
       "      <th>g_adventure</th>\n",
       "      <th>g_animation</th>\n",
       "      <th>g_biography</th>\n",
       "      <th>g_comedy</th>\n",
       "      <th>g_crime</th>\n",
       "      <th>g_documentary</th>\n",
       "      <th>g_drama</th>\n",
       "      <th>g_family</th>\n",
       "      <th>g_fantasy</th>\n",
       "      <th>g_film-noir</th>\n",
       "      <th>g_history</th>\n",
       "      <th>g_horror</th>\n",
       "      <th>g_music</th>\n",
       "      <th>g_musical</th>\n",
       "      <th>g_mystery</th>\n",
       "      <th>g_romance</th>\n",
       "      <th>g_sci-fi</th>\n",
       "      <th>g_sport</th>\n",
       "      <th>g_thriller</th>\n",
       "      <th>g_war</th>\n",
       "      <th>g_western</th>\n",
       "    </tr>\n",
       "  </thead>\n",
       "  <tbody>\n",
       "    <tr>\n",
       "      <td>f_release_year</td>\n",
       "      <td>0.890920</td>\n",
       "      <td>-0.202585</td>\n",
       "      <td>0.205493</td>\n",
       "      <td>0.156150</td>\n",
       "      <td>0.090189</td>\n",
       "      <td>0.207143</td>\n",
       "      <td>0.112173</td>\n",
       "      <td>-0.024676</td>\n",
       "      <td>-0.005681</td>\n",
       "      <td>0.000552</td>\n",
       "      <td>-0.192294</td>\n",
       "      <td>0.262658</td>\n",
       "      <td>-0.124317</td>\n",
       "      <td>-0.247146</td>\n",
       "      <td>-0.202726</td>\n",
       "      <td>-0.000374</td>\n",
       "      <td>-0.163564</td>\n",
       "      <td>-0.082269</td>\n",
       "      <td>-0.013732</td>\n",
       "      <td>0.092245</td>\n",
       "      <td>0.168980</td>\n",
       "      <td>0.168377</td>\n",
       "    </tr>\n",
       "    <tr>\n",
       "      <td>f_release_month</td>\n",
       "      <td>0.162641</td>\n",
       "      <td>0.093539</td>\n",
       "      <td>0.032958</td>\n",
       "      <td>-0.002919</td>\n",
       "      <td>-0.007082</td>\n",
       "      <td>-0.054702</td>\n",
       "      <td>-0.018309</td>\n",
       "      <td>0.026233</td>\n",
       "      <td>0.056573</td>\n",
       "      <td>0.120411</td>\n",
       "      <td>0.000712</td>\n",
       "      <td>-0.090634</td>\n",
       "      <td>-0.025620</td>\n",
       "      <td>0.030871</td>\n",
       "      <td>0.001300</td>\n",
       "      <td>0.005833</td>\n",
       "      <td>0.013643</td>\n",
       "      <td>0.013330</td>\n",
       "      <td>-0.010611</td>\n",
       "      <td>0.009509</td>\n",
       "      <td>-0.108588</td>\n",
       "      <td>-0.121271</td>\n",
       "    </tr>\n",
       "    <tr>\n",
       "      <td>f_runtime</td>\n",
       "      <td>0.997796</td>\n",
       "      <td>0.052923</td>\n",
       "      <td>-0.329772</td>\n",
       "      <td>0.151680</td>\n",
       "      <td>-0.136051</td>\n",
       "      <td>-0.098478</td>\n",
       "      <td>-0.125171</td>\n",
       "      <td>0.161513</td>\n",
       "      <td>-0.157185</td>\n",
       "      <td>-0.139964</td>\n",
       "      <td>-0.046469</td>\n",
       "      <td>0.234240</td>\n",
       "      <td>-0.372855</td>\n",
       "      <td>0.120316</td>\n",
       "      <td>0.074502</td>\n",
       "      <td>0.034689</td>\n",
       "      <td>0.109954</td>\n",
       "      <td>-0.061331</td>\n",
       "      <td>0.012625</td>\n",
       "      <td>0.053091</td>\n",
       "      <td>0.236038</td>\n",
       "      <td>0.229005</td>\n",
       "    </tr>\n",
       "    <tr>\n",
       "      <td>f_word_count_long</td>\n",
       "      <td>0.221205</td>\n",
       "      <td>0.002507</td>\n",
       "      <td>0.022708</td>\n",
       "      <td>0.008983</td>\n",
       "      <td>-0.089621</td>\n",
       "      <td>-0.157927</td>\n",
       "      <td>0.015894</td>\n",
       "      <td>-0.003234</td>\n",
       "      <td>0.103574</td>\n",
       "      <td>0.235768</td>\n",
       "      <td>0.010266</td>\n",
       "      <td>0.010166</td>\n",
       "      <td>-0.077899</td>\n",
       "      <td>0.029570</td>\n",
       "      <td>0.042731</td>\n",
       "      <td>0.011146</td>\n",
       "      <td>-0.027546</td>\n",
       "      <td>0.017361</td>\n",
       "      <td>0.024619</td>\n",
       "      <td>0.003008</td>\n",
       "      <td>-0.013937</td>\n",
       "      <td>-0.003826</td>\n",
       "    </tr>\n",
       "    <tr>\n",
       "      <td>f_imdb_rating</td>\n",
       "      <td>-0.992456</td>\n",
       "      <td>-0.122722</td>\n",
       "      <td>0.277040</td>\n",
       "      <td>0.168530</td>\n",
       "      <td>-0.071904</td>\n",
       "      <td>1.286002</td>\n",
       "      <td>0.241488</td>\n",
       "      <td>0.239085</td>\n",
       "      <td>0.045930</td>\n",
       "      <td>0.015202</td>\n",
       "      <td>0.052162</td>\n",
       "      <td>0.150826</td>\n",
       "      <td>-0.554526</td>\n",
       "      <td>0.047041</td>\n",
       "      <td>0.012359</td>\n",
       "      <td>0.118412</td>\n",
       "      <td>-0.026726</td>\n",
       "      <td>-0.234360</td>\n",
       "      <td>0.013724</td>\n",
       "      <td>-0.086579</td>\n",
       "      <td>0.051071</td>\n",
       "      <td>0.007038</td>\n",
       "    </tr>\n",
       "    <tr>\n",
       "      <td>...</td>\n",
       "      <td>...</td>\n",
       "      <td>...</td>\n",
       "      <td>...</td>\n",
       "      <td>...</td>\n",
       "      <td>...</td>\n",
       "      <td>...</td>\n",
       "      <td>...</td>\n",
       "      <td>...</td>\n",
       "      <td>...</td>\n",
       "      <td>...</td>\n",
       "      <td>...</td>\n",
       "      <td>...</td>\n",
       "      <td>...</td>\n",
       "      <td>...</td>\n",
       "      <td>...</td>\n",
       "      <td>...</td>\n",
       "      <td>...</td>\n",
       "      <td>...</td>\n",
       "      <td>...</td>\n",
       "      <td>...</td>\n",
       "      <td>...</td>\n",
       "      <td>...</td>\n",
       "    </tr>\n",
       "    <tr>\n",
       "      <td>zealand</td>\n",
       "      <td>0.201899</td>\n",
       "      <td>-0.011669</td>\n",
       "      <td>-0.000164</td>\n",
       "      <td>0.038771</td>\n",
       "      <td>-0.038884</td>\n",
       "      <td>-0.200695</td>\n",
       "      <td>0.013058</td>\n",
       "      <td>0.013915</td>\n",
       "      <td>0.007938</td>\n",
       "      <td>0.020752</td>\n",
       "      <td>-0.001004</td>\n",
       "      <td>-0.008869</td>\n",
       "      <td>-0.048644</td>\n",
       "      <td>0.001566</td>\n",
       "      <td>-0.016636</td>\n",
       "      <td>-0.099761</td>\n",
       "      <td>0.006259</td>\n",
       "      <td>-0.014353</td>\n",
       "      <td>0.009601</td>\n",
       "      <td>0.003707</td>\n",
       "      <td>0.014746</td>\n",
       "      <td>0.001099</td>\n",
       "    </tr>\n",
       "    <tr>\n",
       "      <td>zero</td>\n",
       "      <td>0.145570</td>\n",
       "      <td>-0.053593</td>\n",
       "      <td>0.022223</td>\n",
       "      <td>0.015668</td>\n",
       "      <td>0.019288</td>\n",
       "      <td>-0.090709</td>\n",
       "      <td>-0.003745</td>\n",
       "      <td>0.002425</td>\n",
       "      <td>-0.020840</td>\n",
       "      <td>0.058833</td>\n",
       "      <td>0.003737</td>\n",
       "      <td>0.005958</td>\n",
       "      <td>-0.093422</td>\n",
       "      <td>0.027760</td>\n",
       "      <td>0.030987</td>\n",
       "      <td>0.093844</td>\n",
       "      <td>0.031099</td>\n",
       "      <td>0.011547</td>\n",
       "      <td>0.006995</td>\n",
       "      <td>0.014213</td>\n",
       "      <td>0.008819</td>\n",
       "      <td>0.001835</td>\n",
       "    </tr>\n",
       "    <tr>\n",
       "      <td>zombi</td>\n",
       "      <td>-0.028788</td>\n",
       "      <td>-0.057147</td>\n",
       "      <td>-0.007456</td>\n",
       "      <td>0.005884</td>\n",
       "      <td>0.020771</td>\n",
       "      <td>-0.279043</td>\n",
       "      <td>-0.000784</td>\n",
       "      <td>-0.027079</td>\n",
       "      <td>-0.005703</td>\n",
       "      <td>-0.038465</td>\n",
       "      <td>0.003023</td>\n",
       "      <td>-0.020218</td>\n",
       "      <td>0.341943</td>\n",
       "      <td>0.012054</td>\n",
       "      <td>0.030725</td>\n",
       "      <td>-0.135719</td>\n",
       "      <td>-0.007812</td>\n",
       "      <td>0.022717</td>\n",
       "      <td>-0.009578</td>\n",
       "      <td>0.004558</td>\n",
       "      <td>-0.052168</td>\n",
       "      <td>-0.011931</td>\n",
       "    </tr>\n",
       "    <tr>\n",
       "      <td>zone</td>\n",
       "      <td>0.188484</td>\n",
       "      <td>0.066910</td>\n",
       "      <td>-0.011633</td>\n",
       "      <td>-0.034049</td>\n",
       "      <td>0.013658</td>\n",
       "      <td>-0.053566</td>\n",
       "      <td>0.012062</td>\n",
       "      <td>-0.014565</td>\n",
       "      <td>-0.003714</td>\n",
       "      <td>0.043539</td>\n",
       "      <td>-0.001000</td>\n",
       "      <td>0.025871</td>\n",
       "      <td>-0.015155</td>\n",
       "      <td>0.039160</td>\n",
       "      <td>-0.007195</td>\n",
       "      <td>-0.075479</td>\n",
       "      <td>-0.015189</td>\n",
       "      <td>0.036640</td>\n",
       "      <td>-0.033840</td>\n",
       "      <td>-0.004590</td>\n",
       "      <td>0.025977</td>\n",
       "      <td>-0.003066</td>\n",
       "    </tr>\n",
       "    <tr>\n",
       "      <td>zoo</td>\n",
       "      <td>-0.039962</td>\n",
       "      <td>0.073740</td>\n",
       "      <td>0.018455</td>\n",
       "      <td>-0.023292</td>\n",
       "      <td>0.014912</td>\n",
       "      <td>-0.352289</td>\n",
       "      <td>-0.006540</td>\n",
       "      <td>-0.004921</td>\n",
       "      <td>0.044167</td>\n",
       "      <td>0.052392</td>\n",
       "      <td>-0.002906</td>\n",
       "      <td>-0.003083</td>\n",
       "      <td>0.011880</td>\n",
       "      <td>0.013114</td>\n",
       "      <td>-0.004452</td>\n",
       "      <td>0.041213</td>\n",
       "      <td>0.002608</td>\n",
       "      <td>-0.005972</td>\n",
       "      <td>-0.011298</td>\n",
       "      <td>-0.001489</td>\n",
       "      <td>-0.008891</td>\n",
       "      <td>0.003304</td>\n",
       "    </tr>\n",
       "  </tbody>\n",
       "</table>\n",
       "<p>5459 rows × 22 columns</p>\n",
       "</div>"
      ],
      "text/plain": [
       "                   g_action  g_adventure  g_animation  g_biography  g_comedy  \\\n",
       "f_release_year     0.890920    -0.202585     0.205493     0.156150  0.090189   \n",
       "f_release_month    0.162641     0.093539     0.032958    -0.002919 -0.007082   \n",
       "f_runtime          0.997796     0.052923    -0.329772     0.151680 -0.136051   \n",
       "f_word_count_long  0.221205     0.002507     0.022708     0.008983 -0.089621   \n",
       "f_imdb_rating     -0.992456    -0.122722     0.277040     0.168530 -0.071904   \n",
       "...                     ...          ...          ...          ...       ...   \n",
       "zealand            0.201899    -0.011669    -0.000164     0.038771 -0.038884   \n",
       "zero               0.145570    -0.053593     0.022223     0.015668  0.019288   \n",
       "zombi             -0.028788    -0.057147    -0.007456     0.005884  0.020771   \n",
       "zone               0.188484     0.066910    -0.011633    -0.034049  0.013658   \n",
       "zoo               -0.039962     0.073740     0.018455    -0.023292  0.014912   \n",
       "\n",
       "                    g_crime  g_documentary   g_drama  g_family  g_fantasy  \\\n",
       "f_release_year     0.207143       0.112173 -0.024676 -0.005681   0.000552   \n",
       "f_release_month   -0.054702      -0.018309  0.026233  0.056573   0.120411   \n",
       "f_runtime         -0.098478      -0.125171  0.161513 -0.157185  -0.139964   \n",
       "f_word_count_long -0.157927       0.015894 -0.003234  0.103574   0.235768   \n",
       "f_imdb_rating      1.286002       0.241488  0.239085  0.045930   0.015202   \n",
       "...                     ...            ...       ...       ...        ...   \n",
       "zealand           -0.200695       0.013058  0.013915  0.007938   0.020752   \n",
       "zero              -0.090709      -0.003745  0.002425 -0.020840   0.058833   \n",
       "zombi             -0.279043      -0.000784 -0.027079 -0.005703  -0.038465   \n",
       "zone              -0.053566       0.012062 -0.014565 -0.003714   0.043539   \n",
       "zoo               -0.352289      -0.006540 -0.004921  0.044167   0.052392   \n",
       "\n",
       "                   g_film-noir  g_history  g_horror   g_music  g_musical  \\\n",
       "f_release_year       -0.192294   0.262658 -0.124317 -0.247146  -0.202726   \n",
       "f_release_month       0.000712  -0.090634 -0.025620  0.030871   0.001300   \n",
       "f_runtime            -0.046469   0.234240 -0.372855  0.120316   0.074502   \n",
       "f_word_count_long     0.010266   0.010166 -0.077899  0.029570   0.042731   \n",
       "f_imdb_rating         0.052162   0.150826 -0.554526  0.047041   0.012359   \n",
       "...                        ...        ...       ...       ...        ...   \n",
       "zealand              -0.001004  -0.008869 -0.048644  0.001566  -0.016636   \n",
       "zero                  0.003737   0.005958 -0.093422  0.027760   0.030987   \n",
       "zombi                 0.003023  -0.020218  0.341943  0.012054   0.030725   \n",
       "zone                 -0.001000   0.025871 -0.015155  0.039160  -0.007195   \n",
       "zoo                  -0.002906  -0.003083  0.011880  0.013114  -0.004452   \n",
       "\n",
       "                   g_mystery  g_romance  g_sci-fi   g_sport  g_thriller  \\\n",
       "f_release_year     -0.000374  -0.163564 -0.082269 -0.013732    0.092245   \n",
       "f_release_month     0.005833   0.013643  0.013330 -0.010611    0.009509   \n",
       "f_runtime           0.034689   0.109954 -0.061331  0.012625    0.053091   \n",
       "f_word_count_long   0.011146  -0.027546  0.017361  0.024619    0.003008   \n",
       "f_imdb_rating       0.118412  -0.026726 -0.234360  0.013724   -0.086579   \n",
       "...                      ...        ...       ...       ...         ...   \n",
       "zealand            -0.099761   0.006259 -0.014353  0.009601    0.003707   \n",
       "zero                0.093844   0.031099  0.011547  0.006995    0.014213   \n",
       "zombi              -0.135719  -0.007812  0.022717 -0.009578    0.004558   \n",
       "zone               -0.075479  -0.015189  0.036640 -0.033840   -0.004590   \n",
       "zoo                 0.041213   0.002608 -0.005972 -0.011298   -0.001489   \n",
       "\n",
       "                      g_war  g_western  \n",
       "f_release_year     0.168980   0.168377  \n",
       "f_release_month   -0.108588  -0.121271  \n",
       "f_runtime          0.236038   0.229005  \n",
       "f_word_count_long -0.013937  -0.003826  \n",
       "f_imdb_rating      0.051071   0.007038  \n",
       "...                     ...        ...  \n",
       "zealand            0.014746   0.001099  \n",
       "zero               0.008819   0.001835  \n",
       "zombi             -0.052168  -0.011931  \n",
       "zone               0.025977  -0.003066  \n",
       "zoo               -0.008891   0.003304  \n",
       "\n",
       "[5459 rows x 22 columns]"
      ]
     },
     "execution_count": 75,
     "metadata": {},
     "output_type": "execute_result"
    }
   ],
   "source": [
    "coef_df = pd.DataFrame(coefs, index=genre_cols, columns=X_train.columns)\n",
    "coef_tdf = coef_df.T\n",
    "coef_tdf"
   ]
  },
  {
   "cell_type": "code",
   "execution_count": 29,
   "metadata": {},
   "outputs": [],
   "source": [
    "coef_tdf.to_csv('my_1vr_linear_svc_default_coef.tsv', sep='\\t')"
   ]
  },
  {
   "cell_type": "code",
   "execution_count": null,
   "metadata": {},
   "outputs": [],
   "source": []
  },
  {
   "cell_type": "code",
   "execution_count": null,
   "metadata": {},
   "outputs": [],
   "source": []
  },
  {
   "cell_type": "code",
   "execution_count": null,
   "metadata": {},
   "outputs": [],
   "source": []
  },
  {
   "cell_type": "code",
   "execution_count": null,
   "metadata": {},
   "outputs": [],
   "source": []
  },
  {
   "cell_type": "code",
   "execution_count": 69,
   "metadata": {},
   "outputs": [
    {
     "name": "stdout",
     "output_type": "stream",
     "text": [
      "Wall time: 8min 26s\n"
     ]
    },
    {
     "data": {
      "text/plain": [
       "['models/my_1vr_logreg_default.pkl']"
      ]
     },
     "execution_count": 69,
     "metadata": {},
     "output_type": "execute_result"
    }
   ],
   "source": [
    "%%time\n",
    "my_log_model = OneVsRestClassifier(LogisticRegression(random_state=123, max_iter=3000), n_jobs=-1).fit(X_train_s, y_train)\n",
    "\n",
    "# EXPORT AND SAVE THE MODEL\n",
    "joblib.dump(my_log_model, 'models/my_1vr_logreg_default.pkl')"
   ]
  },
  {
   "cell_type": "code",
   "execution_count": 106,
   "metadata": {},
   "outputs": [
    {
     "name": "stdout",
     "output_type": "stream",
     "text": [
      "Wall time: 11 s\n"
     ]
    },
    {
     "data": {
      "text/plain": [
       "['models/my_1vr_logreg_minmax_0.01.pkl']"
      ]
     },
     "execution_count": 106,
     "metadata": {},
     "output_type": "execute_result"
    }
   ],
   "source": [
    "%%time\n",
    "my_log_model_mm = OneVsRestClassifier(LogisticRegression(random_state=123, max_iter=3000, C=0.01), n_jobs=-1).fit(X_train_mm, y_train)\n",
    "\n",
    "# EXPORT AND SAVE THE MODEL\n",
    "joblib.dump(my_log_model_mm, 'models/my_1vr_logreg_minmax_0.01.pkl')"
   ]
  },
  {
   "cell_type": "code",
   "execution_count": 109,
   "metadata": {},
   "outputs": [
    {
     "name": "stdout",
     "output_type": "stream",
     "text": [
      "Train: 0.08490524166703653\n",
      " Test: 0.07189455465317535\n",
      "0.8136  g_action\n",
      "0.8852  g_adventure\n",
      "0.9691  g_animation\n",
      "0.9478  g_biography\n",
      "0.6686  g_comedy\n",
      "0.8396  g_crime\n",
      "0.9525  g_documentary\n",
      "0.6873  g_drama\n",
      "0.9406  g_family\n",
      "0.9249  g_fantasy\n",
      "0.9892  g_film-noir\n",
      "0.9561  g_history\n",
      "0.8645  g_horror\n",
      "0.9342  g_music\n",
      "0.9698  g_musical\n",
      "0.9087  g_mystery\n",
      "0.7774  g_romance\n",
      "0.9179  g_sci-fi\n",
      "0.9708  g_sport\n",
      "0.7594  g_thriller\n",
      "0.9490  g_war\n",
      "0.9775  g_western\n"
     ]
    }
   ],
   "source": [
    "y_pred_log_mm = my_log_model_mm.predict(X_test_mm)\n",
    "y_train_pred_log_mm = my_log_model_mm.predict(X_train_mm)\n",
    "from sklearn.metrics import accuracy_score\n",
    "print(f'Train: {accuracy_score(y_train, y_train_pred_log_mm)}')\n",
    "print(f' Test: {accuracy_score(y_test, y_pred_log)}')\n",
    "\n",
    "y_train_pred_log_mm_df = pd.DataFrame(y_train_pred_log_mm)\n",
    "y_train_pred_log_mm_df.columns = genre_cols\n",
    "\n",
    "y_pred_log_mm_df = pd.DataFrame(y_pred_log_mm)\n",
    "y_pred_log_mm_df.columns = genre_cols\n",
    "\n",
    "#test_acc_dict = {}\n",
    "# Test set predictions\n",
    "for g in genre_cols:\n",
    "    score = accuracy_score(y_test[g], y_pred_log_mm_df[g])\n",
    "    #test_acc_dict.update( {g[2:] : score} )\n",
    "    print(f'{score:0.4f}  {g}')"
   ]
  },
  {
   "cell_type": "code",
   "execution_count": null,
   "metadata": {},
   "outputs": [],
   "source": []
  },
  {
   "cell_type": "code",
   "execution_count": null,
   "metadata": {},
   "outputs": [],
   "source": []
  },
  {
   "cell_type": "code",
   "execution_count": 101,
   "metadata": {},
   "outputs": [],
   "source": [
    "y_pred_log = my_log_model.predict(X_test_s)"
   ]
  },
  {
   "cell_type": "code",
   "execution_count": 71,
   "metadata": {},
   "outputs": [],
   "source": [
    "y_train_pred_log = my_log_model.predict(X_train_s)"
   ]
  },
  {
   "cell_type": "code",
   "execution_count": 72,
   "metadata": {},
   "outputs": [
    {
     "data": {
      "text/plain": [
       "True"
      ]
     },
     "execution_count": 72,
     "metadata": {},
     "output_type": "execute_result"
    }
   ],
   "source": [
    "my_log_model.multilabel_\n",
    "#my_model.predict_proba(X_train_s)"
   ]
  },
  {
   "cell_type": "code",
   "execution_count": 73,
   "metadata": {},
   "outputs": [
    {
     "data": {
      "text/plain": [
       "0.622076250499312"
      ]
     },
     "execution_count": 73,
     "metadata": {},
     "output_type": "execute_result"
    }
   ],
   "source": [
    "from sklearn.metrics import accuracy_score\n",
    "accuracy_score(y_train, y_train_pred_log)"
   ]
  },
  {
   "cell_type": "code",
   "execution_count": 80,
   "metadata": {},
   "outputs": [
    {
     "data": {
      "text/plain": [
       "0.06403940886699508"
      ]
     },
     "execution_count": 80,
     "metadata": {},
     "output_type": "execute_result"
    }
   ],
   "source": [
    "from sklearn.metrics import accuracy_score\n",
    "accuracy_score(y_test, y_pred_log)"
   ]
  },
  {
   "cell_type": "code",
   "execution_count": 81,
   "metadata": {},
   "outputs": [],
   "source": [
    "y_train_pred_log_df = pd.DataFrame(y_train_pred_log)\n",
    "y_train_pred_log_df.columns = genre_cols\n",
    "\n",
    "y_pred_log_df = pd.DataFrame(y_pred_log)\n",
    "y_pred_log_df.columns = genre_cols"
   ]
  },
  {
   "cell_type": "code",
   "execution_count": 82,
   "metadata": {},
   "outputs": [
    {
     "name": "stdout",
     "output_type": "stream",
     "text": [
      "0.7809  g_action\n",
      "0.8340  g_adventure\n",
      "0.9561  g_animation\n",
      "0.9081  g_biography\n",
      "0.7252  g_comedy\n",
      "0.7891  g_crime\n",
      "0.9686  g_documentary\n",
      "0.6874  g_drama\n",
      "0.8992  g_family\n",
      "0.8768  g_fantasy\n",
      "0.9874  g_film-noir\n",
      "0.9217  g_history\n",
      "0.8882  g_horror\n",
      "0.9101  g_music\n",
      "0.9449  g_musical\n",
      "0.8338  g_mystery\n",
      "0.7617  g_romance\n",
      "0.9103  g_sci-fi\n",
      "0.9767  g_sport\n",
      "0.7566  g_thriller\n",
      "0.9451  g_war\n",
      "0.9840  g_western\n"
     ]
    }
   ],
   "source": [
    "test_acc_dict = {}\n",
    "# Test set predictions\n",
    "for g in genre_cols:\n",
    "    score = accuracy_score(y_test[g], y_pred_log_df[g])\n",
    "    test_acc_dict.update( {g[2:] : score} )\n",
    "    print(f'{score:0.4f}  {g}')"
   ]
  },
  {
   "cell_type": "code",
   "execution_count": 83,
   "metadata": {},
   "outputs": [],
   "source": [
    "test_scores_log = pd.DataFrame.from_dict(test_acc_dict, orient='index', columns=['score'])"
   ]
  },
  {
   "cell_type": "code",
   "execution_count": 84,
   "metadata": {},
   "outputs": [],
   "source": [
    "test_scores_log.to_csv('test_scores_model1.csv', index_label='genre')"
   ]
  },
  {
   "cell_type": "code",
   "execution_count": 85,
   "metadata": {},
   "outputs": [
    {
     "data": {
      "text/html": [
       "<div>\n",
       "<style scoped>\n",
       "    .dataframe tbody tr th:only-of-type {\n",
       "        vertical-align: middle;\n",
       "    }\n",
       "\n",
       "    .dataframe tbody tr th {\n",
       "        vertical-align: top;\n",
       "    }\n",
       "\n",
       "    .dataframe thead th {\n",
       "        text-align: right;\n",
       "    }\n",
       "</style>\n",
       "<table border=\"1\" class=\"dataframe\">\n",
       "  <thead>\n",
       "    <tr style=\"text-align: right;\">\n",
       "      <th></th>\n",
       "      <th>g_action</th>\n",
       "      <th>g_adventure</th>\n",
       "      <th>g_animation</th>\n",
       "      <th>g_biography</th>\n",
       "      <th>g_comedy</th>\n",
       "      <th>g_crime</th>\n",
       "      <th>g_documentary</th>\n",
       "      <th>g_drama</th>\n",
       "      <th>g_family</th>\n",
       "      <th>g_fantasy</th>\n",
       "      <th>g_film-noir</th>\n",
       "      <th>g_history</th>\n",
       "      <th>g_horror</th>\n",
       "      <th>g_music</th>\n",
       "      <th>g_musical</th>\n",
       "      <th>g_mystery</th>\n",
       "      <th>g_romance</th>\n",
       "      <th>g_sci-fi</th>\n",
       "      <th>g_sport</th>\n",
       "      <th>g_thriller</th>\n",
       "      <th>g_war</th>\n",
       "      <th>g_western</th>\n",
       "    </tr>\n",
       "  </thead>\n",
       "  <tbody>\n",
       "    <tr>\n",
       "      <td>f_release_year</td>\n",
       "      <td>0.890920</td>\n",
       "      <td>-0.202585</td>\n",
       "      <td>0.205493</td>\n",
       "      <td>0.156150</td>\n",
       "      <td>0.090189</td>\n",
       "      <td>0.207143</td>\n",
       "      <td>0.112173</td>\n",
       "      <td>-0.024676</td>\n",
       "      <td>-0.005681</td>\n",
       "      <td>0.000552</td>\n",
       "      <td>-0.192294</td>\n",
       "      <td>0.262658</td>\n",
       "      <td>-0.124317</td>\n",
       "      <td>-0.247146</td>\n",
       "      <td>-0.202726</td>\n",
       "      <td>-0.000374</td>\n",
       "      <td>-0.163564</td>\n",
       "      <td>-0.082269</td>\n",
       "      <td>-0.013732</td>\n",
       "      <td>0.092245</td>\n",
       "      <td>0.168980</td>\n",
       "      <td>0.168377</td>\n",
       "    </tr>\n",
       "    <tr>\n",
       "      <td>f_release_month</td>\n",
       "      <td>0.162641</td>\n",
       "      <td>0.093539</td>\n",
       "      <td>0.032958</td>\n",
       "      <td>-0.002919</td>\n",
       "      <td>-0.007082</td>\n",
       "      <td>-0.054702</td>\n",
       "      <td>-0.018309</td>\n",
       "      <td>0.026233</td>\n",
       "      <td>0.056573</td>\n",
       "      <td>0.120411</td>\n",
       "      <td>0.000712</td>\n",
       "      <td>-0.090634</td>\n",
       "      <td>-0.025620</td>\n",
       "      <td>0.030871</td>\n",
       "      <td>0.001300</td>\n",
       "      <td>0.005833</td>\n",
       "      <td>0.013643</td>\n",
       "      <td>0.013330</td>\n",
       "      <td>-0.010611</td>\n",
       "      <td>0.009509</td>\n",
       "      <td>-0.108588</td>\n",
       "      <td>-0.121271</td>\n",
       "    </tr>\n",
       "    <tr>\n",
       "      <td>f_runtime</td>\n",
       "      <td>0.997796</td>\n",
       "      <td>0.052923</td>\n",
       "      <td>-0.329772</td>\n",
       "      <td>0.151680</td>\n",
       "      <td>-0.136051</td>\n",
       "      <td>-0.098478</td>\n",
       "      <td>-0.125171</td>\n",
       "      <td>0.161513</td>\n",
       "      <td>-0.157185</td>\n",
       "      <td>-0.139964</td>\n",
       "      <td>-0.046469</td>\n",
       "      <td>0.234240</td>\n",
       "      <td>-0.372855</td>\n",
       "      <td>0.120316</td>\n",
       "      <td>0.074502</td>\n",
       "      <td>0.034689</td>\n",
       "      <td>0.109954</td>\n",
       "      <td>-0.061331</td>\n",
       "      <td>0.012625</td>\n",
       "      <td>0.053091</td>\n",
       "      <td>0.236038</td>\n",
       "      <td>0.229005</td>\n",
       "    </tr>\n",
       "    <tr>\n",
       "      <td>f_word_count_long</td>\n",
       "      <td>0.221205</td>\n",
       "      <td>0.002507</td>\n",
       "      <td>0.022708</td>\n",
       "      <td>0.008983</td>\n",
       "      <td>-0.089621</td>\n",
       "      <td>-0.157927</td>\n",
       "      <td>0.015894</td>\n",
       "      <td>-0.003234</td>\n",
       "      <td>0.103574</td>\n",
       "      <td>0.235768</td>\n",
       "      <td>0.010266</td>\n",
       "      <td>0.010166</td>\n",
       "      <td>-0.077899</td>\n",
       "      <td>0.029570</td>\n",
       "      <td>0.042731</td>\n",
       "      <td>0.011146</td>\n",
       "      <td>-0.027546</td>\n",
       "      <td>0.017361</td>\n",
       "      <td>0.024619</td>\n",
       "      <td>0.003008</td>\n",
       "      <td>-0.013937</td>\n",
       "      <td>-0.003826</td>\n",
       "    </tr>\n",
       "    <tr>\n",
       "      <td>f_imdb_rating</td>\n",
       "      <td>-0.992456</td>\n",
       "      <td>-0.122722</td>\n",
       "      <td>0.277040</td>\n",
       "      <td>0.168530</td>\n",
       "      <td>-0.071904</td>\n",
       "      <td>1.286002</td>\n",
       "      <td>0.241488</td>\n",
       "      <td>0.239085</td>\n",
       "      <td>0.045930</td>\n",
       "      <td>0.015202</td>\n",
       "      <td>0.052162</td>\n",
       "      <td>0.150826</td>\n",
       "      <td>-0.554526</td>\n",
       "      <td>0.047041</td>\n",
       "      <td>0.012359</td>\n",
       "      <td>0.118412</td>\n",
       "      <td>-0.026726</td>\n",
       "      <td>-0.234360</td>\n",
       "      <td>0.013724</td>\n",
       "      <td>-0.086579</td>\n",
       "      <td>0.051071</td>\n",
       "      <td>0.007038</td>\n",
       "    </tr>\n",
       "    <tr>\n",
       "      <td>...</td>\n",
       "      <td>...</td>\n",
       "      <td>...</td>\n",
       "      <td>...</td>\n",
       "      <td>...</td>\n",
       "      <td>...</td>\n",
       "      <td>...</td>\n",
       "      <td>...</td>\n",
       "      <td>...</td>\n",
       "      <td>...</td>\n",
       "      <td>...</td>\n",
       "      <td>...</td>\n",
       "      <td>...</td>\n",
       "      <td>...</td>\n",
       "      <td>...</td>\n",
       "      <td>...</td>\n",
       "      <td>...</td>\n",
       "      <td>...</td>\n",
       "      <td>...</td>\n",
       "      <td>...</td>\n",
       "      <td>...</td>\n",
       "      <td>...</td>\n",
       "      <td>...</td>\n",
       "    </tr>\n",
       "    <tr>\n",
       "      <td>zealand</td>\n",
       "      <td>0.201899</td>\n",
       "      <td>-0.011669</td>\n",
       "      <td>-0.000164</td>\n",
       "      <td>0.038771</td>\n",
       "      <td>-0.038884</td>\n",
       "      <td>-0.200695</td>\n",
       "      <td>0.013058</td>\n",
       "      <td>0.013915</td>\n",
       "      <td>0.007938</td>\n",
       "      <td>0.020752</td>\n",
       "      <td>-0.001004</td>\n",
       "      <td>-0.008869</td>\n",
       "      <td>-0.048644</td>\n",
       "      <td>0.001566</td>\n",
       "      <td>-0.016636</td>\n",
       "      <td>-0.099761</td>\n",
       "      <td>0.006259</td>\n",
       "      <td>-0.014353</td>\n",
       "      <td>0.009601</td>\n",
       "      <td>0.003707</td>\n",
       "      <td>0.014746</td>\n",
       "      <td>0.001099</td>\n",
       "    </tr>\n",
       "    <tr>\n",
       "      <td>zero</td>\n",
       "      <td>0.145570</td>\n",
       "      <td>-0.053593</td>\n",
       "      <td>0.022223</td>\n",
       "      <td>0.015668</td>\n",
       "      <td>0.019288</td>\n",
       "      <td>-0.090709</td>\n",
       "      <td>-0.003745</td>\n",
       "      <td>0.002425</td>\n",
       "      <td>-0.020840</td>\n",
       "      <td>0.058833</td>\n",
       "      <td>0.003737</td>\n",
       "      <td>0.005958</td>\n",
       "      <td>-0.093422</td>\n",
       "      <td>0.027760</td>\n",
       "      <td>0.030987</td>\n",
       "      <td>0.093844</td>\n",
       "      <td>0.031099</td>\n",
       "      <td>0.011547</td>\n",
       "      <td>0.006995</td>\n",
       "      <td>0.014213</td>\n",
       "      <td>0.008819</td>\n",
       "      <td>0.001835</td>\n",
       "    </tr>\n",
       "    <tr>\n",
       "      <td>zombi</td>\n",
       "      <td>-0.028788</td>\n",
       "      <td>-0.057147</td>\n",
       "      <td>-0.007456</td>\n",
       "      <td>0.005884</td>\n",
       "      <td>0.020771</td>\n",
       "      <td>-0.279043</td>\n",
       "      <td>-0.000784</td>\n",
       "      <td>-0.027079</td>\n",
       "      <td>-0.005703</td>\n",
       "      <td>-0.038465</td>\n",
       "      <td>0.003023</td>\n",
       "      <td>-0.020218</td>\n",
       "      <td>0.341943</td>\n",
       "      <td>0.012054</td>\n",
       "      <td>0.030725</td>\n",
       "      <td>-0.135719</td>\n",
       "      <td>-0.007812</td>\n",
       "      <td>0.022717</td>\n",
       "      <td>-0.009578</td>\n",
       "      <td>0.004558</td>\n",
       "      <td>-0.052168</td>\n",
       "      <td>-0.011931</td>\n",
       "    </tr>\n",
       "    <tr>\n",
       "      <td>zone</td>\n",
       "      <td>0.188484</td>\n",
       "      <td>0.066910</td>\n",
       "      <td>-0.011633</td>\n",
       "      <td>-0.034049</td>\n",
       "      <td>0.013658</td>\n",
       "      <td>-0.053566</td>\n",
       "      <td>0.012062</td>\n",
       "      <td>-0.014565</td>\n",
       "      <td>-0.003714</td>\n",
       "      <td>0.043539</td>\n",
       "      <td>-0.001000</td>\n",
       "      <td>0.025871</td>\n",
       "      <td>-0.015155</td>\n",
       "      <td>0.039160</td>\n",
       "      <td>-0.007195</td>\n",
       "      <td>-0.075479</td>\n",
       "      <td>-0.015189</td>\n",
       "      <td>0.036640</td>\n",
       "      <td>-0.033840</td>\n",
       "      <td>-0.004590</td>\n",
       "      <td>0.025977</td>\n",
       "      <td>-0.003066</td>\n",
       "    </tr>\n",
       "    <tr>\n",
       "      <td>zoo</td>\n",
       "      <td>-0.039962</td>\n",
       "      <td>0.073740</td>\n",
       "      <td>0.018455</td>\n",
       "      <td>-0.023292</td>\n",
       "      <td>0.014912</td>\n",
       "      <td>-0.352289</td>\n",
       "      <td>-0.006540</td>\n",
       "      <td>-0.004921</td>\n",
       "      <td>0.044167</td>\n",
       "      <td>0.052392</td>\n",
       "      <td>-0.002906</td>\n",
       "      <td>-0.003083</td>\n",
       "      <td>0.011880</td>\n",
       "      <td>0.013114</td>\n",
       "      <td>-0.004452</td>\n",
       "      <td>0.041213</td>\n",
       "      <td>0.002608</td>\n",
       "      <td>-0.005972</td>\n",
       "      <td>-0.011298</td>\n",
       "      <td>-0.001489</td>\n",
       "      <td>-0.008891</td>\n",
       "      <td>0.003304</td>\n",
       "    </tr>\n",
       "  </tbody>\n",
       "</table>\n",
       "<p>5459 rows × 22 columns</p>\n",
       "</div>"
      ],
      "text/plain": [
       "                   g_action  g_adventure  g_animation  g_biography  g_comedy  \\\n",
       "f_release_year     0.890920    -0.202585     0.205493     0.156150  0.090189   \n",
       "f_release_month    0.162641     0.093539     0.032958    -0.002919 -0.007082   \n",
       "f_runtime          0.997796     0.052923    -0.329772     0.151680 -0.136051   \n",
       "f_word_count_long  0.221205     0.002507     0.022708     0.008983 -0.089621   \n",
       "f_imdb_rating     -0.992456    -0.122722     0.277040     0.168530 -0.071904   \n",
       "...                     ...          ...          ...          ...       ...   \n",
       "zealand            0.201899    -0.011669    -0.000164     0.038771 -0.038884   \n",
       "zero               0.145570    -0.053593     0.022223     0.015668  0.019288   \n",
       "zombi             -0.028788    -0.057147    -0.007456     0.005884  0.020771   \n",
       "zone               0.188484     0.066910    -0.011633    -0.034049  0.013658   \n",
       "zoo               -0.039962     0.073740     0.018455    -0.023292  0.014912   \n",
       "\n",
       "                    g_crime  g_documentary   g_drama  g_family  g_fantasy  \\\n",
       "f_release_year     0.207143       0.112173 -0.024676 -0.005681   0.000552   \n",
       "f_release_month   -0.054702      -0.018309  0.026233  0.056573   0.120411   \n",
       "f_runtime         -0.098478      -0.125171  0.161513 -0.157185  -0.139964   \n",
       "f_word_count_long -0.157927       0.015894 -0.003234  0.103574   0.235768   \n",
       "f_imdb_rating      1.286002       0.241488  0.239085  0.045930   0.015202   \n",
       "...                     ...            ...       ...       ...        ...   \n",
       "zealand           -0.200695       0.013058  0.013915  0.007938   0.020752   \n",
       "zero              -0.090709      -0.003745  0.002425 -0.020840   0.058833   \n",
       "zombi             -0.279043      -0.000784 -0.027079 -0.005703  -0.038465   \n",
       "zone              -0.053566       0.012062 -0.014565 -0.003714   0.043539   \n",
       "zoo               -0.352289      -0.006540 -0.004921  0.044167   0.052392   \n",
       "\n",
       "                   g_film-noir  g_history  g_horror   g_music  g_musical  \\\n",
       "f_release_year       -0.192294   0.262658 -0.124317 -0.247146  -0.202726   \n",
       "f_release_month       0.000712  -0.090634 -0.025620  0.030871   0.001300   \n",
       "f_runtime            -0.046469   0.234240 -0.372855  0.120316   0.074502   \n",
       "f_word_count_long     0.010266   0.010166 -0.077899  0.029570   0.042731   \n",
       "f_imdb_rating         0.052162   0.150826 -0.554526  0.047041   0.012359   \n",
       "...                        ...        ...       ...       ...        ...   \n",
       "zealand              -0.001004  -0.008869 -0.048644  0.001566  -0.016636   \n",
       "zero                  0.003737   0.005958 -0.093422  0.027760   0.030987   \n",
       "zombi                 0.003023  -0.020218  0.341943  0.012054   0.030725   \n",
       "zone                 -0.001000   0.025871 -0.015155  0.039160  -0.007195   \n",
       "zoo                  -0.002906  -0.003083  0.011880  0.013114  -0.004452   \n",
       "\n",
       "                   g_mystery  g_romance  g_sci-fi   g_sport  g_thriller  \\\n",
       "f_release_year     -0.000374  -0.163564 -0.082269 -0.013732    0.092245   \n",
       "f_release_month     0.005833   0.013643  0.013330 -0.010611    0.009509   \n",
       "f_runtime           0.034689   0.109954 -0.061331  0.012625    0.053091   \n",
       "f_word_count_long   0.011146  -0.027546  0.017361  0.024619    0.003008   \n",
       "f_imdb_rating       0.118412  -0.026726 -0.234360  0.013724   -0.086579   \n",
       "...                      ...        ...       ...       ...         ...   \n",
       "zealand            -0.099761   0.006259 -0.014353  0.009601    0.003707   \n",
       "zero                0.093844   0.031099  0.011547  0.006995    0.014213   \n",
       "zombi              -0.135719  -0.007812  0.022717 -0.009578    0.004558   \n",
       "zone               -0.075479  -0.015189  0.036640 -0.033840   -0.004590   \n",
       "zoo                 0.041213   0.002608 -0.005972 -0.011298   -0.001489   \n",
       "\n",
       "                      g_war  g_western  \n",
       "f_release_year     0.168980   0.168377  \n",
       "f_release_month   -0.108588  -0.121271  \n",
       "f_runtime          0.236038   0.229005  \n",
       "f_word_count_long -0.013937  -0.003826  \n",
       "f_imdb_rating      0.051071   0.007038  \n",
       "...                     ...        ...  \n",
       "zealand            0.014746   0.001099  \n",
       "zero               0.008819   0.001835  \n",
       "zombi             -0.052168  -0.011931  \n",
       "zone               0.025977  -0.003066  \n",
       "zoo               -0.008891   0.003304  \n",
       "\n",
       "[5459 rows x 22 columns]"
      ]
     },
     "execution_count": 85,
     "metadata": {},
     "output_type": "execute_result"
    }
   ],
   "source": [
    "coef_df = pd.DataFrame(coefs, index=genre_cols, columns=X_train.columns)\n",
    "coef_tdf = coef_df.T\n",
    "coef_tdf"
   ]
  },
  {
   "cell_type": "code",
   "execution_count": null,
   "metadata": {},
   "outputs": [],
   "source": [
    "coef_tdf.to_csv('my_1vr_logreg_default_coef.tsv', sep='\\t')"
   ]
  },
  {
   "cell_type": "code",
   "execution_count": null,
   "metadata": {},
   "outputs": [],
   "source": []
  },
  {
   "cell_type": "code",
   "execution_count": null,
   "metadata": {},
   "outputs": [],
   "source": []
  },
  {
   "cell_type": "code",
   "execution_count": null,
   "metadata": {},
   "outputs": [],
   "source": []
  },
  {
   "cell_type": "code",
   "execution_count": null,
   "metadata": {},
   "outputs": [],
   "source": []
  },
  {
   "cell_type": "code",
   "execution_count": null,
   "metadata": {},
   "outputs": [],
   "source": []
  },
  {
   "cell_type": "code",
   "execution_count": 95,
   "metadata": {
    "scrolled": true
   },
   "outputs": [
    {
     "name": "stdout",
     "output_type": "stream",
     "text": [
      "C:  1e-05\n",
      "Train score: 0.07767\n",
      " Test score: 0.07150\n",
      "0.8131  g_action\n",
      "0.8852  g_adventure\n",
      "0.9691  g_animation\n",
      "0.9478  g_biography\n",
      "0.6407  g_comedy\n",
      "0.8392  g_crime\n",
      "0.9525  g_documentary\n",
      "0.6377  g_drama\n",
      "0.9406  g_family\n",
      "0.9249  g_fantasy\n",
      "0.9892  g_film-noir\n",
      "0.9561  g_history\n",
      "0.8643  g_horror\n",
      "0.9342  g_music\n",
      "0.9698  g_musical\n",
      "0.9087  g_mystery\n",
      "0.7738  g_romance\n",
      "0.9179  g_sci-fi\n",
      "0.9708  g_sport\n",
      "0.7542  g_thriller\n",
      "0.9489  g_war\n",
      "0.9775  g_western\n",
      "C:  0.0001\n",
      "Train score: 0.17256\n",
      " Test score: 0.12355\n",
      "0.8506  g_action\n",
      "0.8946  g_adventure\n",
      "0.9691  g_animation\n",
      "0.9478  g_biography\n",
      "0.7606  g_comedy\n",
      "0.8627  g_crime\n",
      "0.9558  g_documentary\n",
      "0.7239  g_drama\n",
      "0.9409  g_family\n",
      "0.9282  g_fantasy\n",
      "0.9892  g_film-noir\n",
      "0.9562  g_history\n",
      "0.8956  g_horror\n",
      "0.9388  g_music\n",
      "0.9698  g_musical\n",
      "0.9100  g_mystery\n",
      "0.8046  g_romance\n",
      "0.9305  g_sci-fi\n",
      "0.9712  g_sport\n",
      "0.7984  g_thriller\n",
      "0.9539  g_war\n",
      "0.9784  g_western\n",
      "C:  0.001\n",
      "Train score: 0.35680\n",
      " Test score: 0.13993\n",
      "0.8631  g_action\n",
      "0.9027  g_adventure\n",
      "0.9714  g_animation\n",
      "0.9518  g_biography\n",
      "0.7512  g_comedy\n",
      "0.8729  g_crime\n",
      "0.9720  g_documentary\n",
      "0.7047  g_drama\n",
      "0.9439  g_family\n",
      "0.9330  g_fantasy\n",
      "0.9891  g_film-noir\n",
      "0.9615  g_history\n",
      "0.9270  g_horror\n",
      "0.9494  g_music\n",
      "0.9703  g_musical\n",
      "0.9103  g_mystery\n",
      "0.8112  g_romance\n",
      "0.9467  g_sci-fi\n",
      "0.9792  g_sport\n",
      "0.7975  g_thriller\n",
      "0.9649  g_war\n",
      "0.9855  g_western\n",
      "C:  0.01\n",
      "Train score: 0.54267\n",
      " Test score: 0.10558\n",
      "0.8352  g_action\n",
      "0.8771  g_adventure\n",
      "0.9702  g_animation\n",
      "0.9394  g_biography\n",
      "0.7344  g_comedy\n",
      "0.8410  g_crime\n",
      "0.9731  g_documentary\n",
      "0.6931  g_drama\n",
      "0.9317  g_family\n",
      "0.9137  g_fantasy\n",
      "0.9892  g_film-noir\n",
      "0.9506  g_history\n",
      "0.9117  g_horror\n",
      "0.9385  g_music\n",
      "0.9655  g_musical\n",
      "0.8823  g_mystery\n",
      "0.7822  g_romance\n",
      "0.9370  g_sci-fi\n",
      "0.9794  g_sport\n",
      "0.7769  g_thriller\n",
      "0.9610  g_war\n",
      "0.9868  g_western\n",
      "C:  0.1\n",
      "Train score: 0.60312\n",
      " Test score: 0.07882\n",
      "0.8002  g_action\n",
      "0.8517  g_adventure\n",
      "0.9643  g_animation\n",
      "0.9276  g_biography\n",
      "0.7265  g_comedy\n",
      "0.8064  g_crime\n",
      "0.9720  g_documentary\n",
      "0.6883  g_drama\n",
      "0.9197  g_family\n",
      "0.8938  g_fantasy\n",
      "0.9888  g_film-noir\n",
      "0.9392  g_history\n",
      "0.9019  g_horror\n",
      "0.9240  g_music\n",
      "0.9587  g_musical\n",
      "0.8558  g_mystery\n",
      "0.7657  g_romance\n",
      "0.9261  g_sci-fi\n",
      "0.9796  g_sport\n",
      "0.7593  g_thriller\n",
      "0.9569  g_war\n",
      "0.9868  g_western\n",
      "C:  1\n",
      "Train score: 0.62265\n",
      " Test score: 0.06763\n",
      "0.7848  g_action\n",
      "0.8404  g_adventure\n",
      "0.9593  g_animation\n",
      "0.9157  g_biography\n",
      "0.7252  g_comedy\n",
      "0.7922  g_crime\n",
      "0.9695  g_documentary\n",
      "0.6874  g_drama\n",
      "0.9060  g_family\n",
      "0.8818  g_fantasy\n",
      "0.9879  g_film-noir\n",
      "0.9289  g_history\n",
      "0.8923  g_horror\n",
      "0.9136  g_music\n",
      "0.9497  g_musical\n",
      "0.8408  g_mystery\n",
      "0.7615  g_romance\n",
      "0.9157  g_sci-fi\n",
      "0.9778  g_sport\n",
      "0.7568  g_thriller\n",
      "0.9501  g_war\n",
      "0.9854  g_western\n",
      "Wall time: 1h 48min 14s\n"
     ]
    }
   ],
   "source": [
    "%%time\n",
    "\n",
    "c_values = [0.00001, 0.0001, 0.001, 0.01, 0.1, 1]\n",
    "train_scores = []\n",
    "test_scores = []\n",
    "\n",
    "for c_val in c_values:\n",
    "    my_log_model = OneVsRestClassifier(LogisticRegression(random_state=123, solver='sag', max_iter=3000, C=c_val, n_jobs=-1), n_jobs=-1).fit(X_train_s, y_train)\n",
    "\n",
    "    # EXPORT AND SAVE THE MODEL\n",
    "    joblib.dump(my_log_model, f'models/my_1vr_logreg_sag_{c_val}.pkl')\n",
    "    \n",
    "    # Make predictions\n",
    "    y_train_pred_log = my_log_model.predict(X_train_s)\n",
    "    y_pred_log = my_log_model.predict(X_test_s)\n",
    "\n",
    "    #my_log_model.multilabel_\n",
    "    #my_model.predict_proba(X_train_s)\n",
    "    \n",
    "    # Check overall accuracies\n",
    "    from sklearn.metrics import accuracy_score\n",
    "    train_acc = accuracy_score(y_train, y_train_pred_log)\n",
    "    test_acc = accuracy_score(y_test, y_pred_log)\n",
    "    train_scores.append(train_acc)\n",
    "    test_scores.append(test_acc)\n",
    "    print(f'C:  {c_val}')\n",
    "    print(f'Train score: {train_acc:0.5f}')\n",
    "    print(f' Test score: {test_acc:0.5f}')\n",
    "\n",
    "    y_train_pred_log_df = pd.DataFrame(y_train_pred_log)\n",
    "    y_train_pred_log_df.columns = genre_cols\n",
    "\n",
    "    y_pred_log_df = pd.DataFrame(y_pred_log)\n",
    "    y_pred_log_df.columns = genre_cols\n",
    "\n",
    "    test_acc_dict = {}\n",
    "    # Test genre set predictions\n",
    "    for g in genre_cols:\n",
    "        score = accuracy_score(y_test[g], y_pred_log_df[g])\n",
    "        test_acc_dict.update( {g[2:] : score} )\n",
    "        print(f'{score:0.4f}  {g}')\n",
    "\n",
    "    # Export genre scores\n",
    "    test_scores_log = pd.DataFrame.from_dict(test_acc_dict, orient='index', columns=['score'])\n",
    "    test_scores_log.to_csv(f'test_scores_logreg_sag_{c_val}.csv', index_label='genre')"
   ]
  },
  {
   "cell_type": "code",
   "execution_count": 96,
   "metadata": {},
   "outputs": [
    {
     "data": {
      "text/plain": [
       "<function matplotlib.pyplot.show(*args, **kw)>"
      ]
     },
     "execution_count": 96,
     "metadata": {},
     "output_type": "execute_result"
    },
    {
     "data": {
      "image/png": "[encoded data removed]",
      "text/plain": [
       "<Figure size 432x288 with 1 Axes>"
      ]
     },
     "metadata": {
      "needs_background": "light"
     },
     "output_type": "display_data"
    }
   ],
   "source": [
    "plt.figure()\n",
    "plt.plot(c_values, train_scores, label='train')\n",
    "plt.plot(c_values, test_scores, label='test')\n",
    "plt.xscale('log')\n",
    "plt.show"
   ]
  },
  {
   "cell_type": "code",
   "execution_count": 110,
   "metadata": {},
   "outputs": [
    {
     "data": {
      "text/plain": [
       "[0.07767076472415782,\n",
       " 0.17256224757001465,\n",
       " 0.35679730149571703,\n",
       " 0.5426745373041587,\n",
       " 0.6031245839066175,\n",
       " 0.6226532333229773]"
      ]
     },
     "execution_count": 110,
     "metadata": {},
     "output_type": "execute_result"
    }
   ],
   "source": [
    "train_scores"
   ]
  },
  {
   "cell_type": "code",
   "execution_count": 111,
   "metadata": {},
   "outputs": [
    {
     "data": {
      "text/plain": [
       "[0.0714951404606577,\n",
       " 0.12355212355212356,\n",
       " 0.1399281054453468,\n",
       " 0.10557848488882972,\n",
       " 0.07881773399014778,\n",
       " 0.06763413659965384]"
      ]
     },
     "execution_count": 111,
     "metadata": {},
     "output_type": "execute_result"
    }
   ],
   "source": [
    "test_scores"
   ]
  },
  {
   "cell_type": "code",
   "execution_count": null,
   "metadata": {},
   "outputs": [],
   "source": []
  }
 ],
 "metadata": {
  "kernelspec": {
   "display_name": "Python 3",
   "language": "python",
   "name": "python3"
  },
  "language_info": {
   "codemirror_mode": {
    "name": "ipython",
    "version": 3
   },
   "file_extension": ".py",
   "mimetype": "text/x-python",
   "name": "python",
   "nbconvert_exporter": "python",
   "pygments_lexer": "ipython3",
   "version": "3.7.4"
  }
 },
 "nbformat": 4,
 "nbformat_minor": 4
}
