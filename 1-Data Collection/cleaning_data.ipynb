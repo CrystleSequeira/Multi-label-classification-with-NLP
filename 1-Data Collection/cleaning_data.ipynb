{
 "cells": [
  {
   "cell_type": "markdown",
   "metadata": {},
   "source": [
    "## Tom Keith Capstone\n",
    "### Data Cleaning"
   ]
  },
  {
   "cell_type": "code",
   "execution_count": 1,
   "metadata": {},
   "outputs": [],
   "source": [
    "# Import libraries and change default column settings to display more\n",
    "import numpy as np\n",
    "import pandas as pd\n",
    "pd.set_option('display.max_columns',500)\n",
    "#import seaborn as sns\n",
    "import matplotlib.pyplot as plt\n",
    "%matplotlib inline\n",
    "#from scipy import stats\n",
    "#from scipy.stats import norm #used for plotting\n",
    "#import statsmodels.api as sm"
   ]
  },
  {
   "cell_type": "code",
   "execution_count": 2,
   "metadata": {},
   "outputs": [
    {
     "name": "stdout",
     "output_type": "stream",
     "text": [
      "<class 'pandas.core.frame.DataFrame'>\n",
      "RangeIndex: 5043 entries, 0 to 5042\n",
      "Data columns (total 28 columns):\n",
      "color                        5024 non-null object\n",
      "director_name                4939 non-null object\n",
      "num_critic_for_reviews       4993 non-null float64\n",
      "duration                     5028 non-null float64\n",
      "director_facebook_likes      4939 non-null float64\n",
      "actor_3_facebook_likes       5020 non-null float64\n",
      "actor_2_name                 5030 non-null object\n",
      "actor_1_facebook_likes       5036 non-null float64\n",
      "gross                        4159 non-null float64\n",
      "genres                       5043 non-null object\n",
      "actor_1_name                 5036 non-null object\n",
      "movie_title                  5043 non-null object\n",
      "num_voted_users              5043 non-null int64\n",
      "cast_total_facebook_likes    5043 non-null int64\n",
      "actor_3_name                 5020 non-null object\n",
      "facenumber_in_poster         5030 non-null float64\n",
      "plot_keywords                4890 non-null object\n",
      "movie_imdb_link              5043 non-null object\n",
      "num_user_for_reviews         5022 non-null float64\n",
      "language                     5031 non-null object\n",
      "country                      5038 non-null object\n",
      "content_rating               4740 non-null object\n",
      "budget                       4551 non-null float64\n",
      "title_year                   4935 non-null float64\n",
      "actor_2_facebook_likes       5030 non-null float64\n",
      "imdb_score                   5043 non-null float64\n",
      "aspect_ratio                 4714 non-null float64\n",
      "movie_facebook_likes         5043 non-null int64\n",
      "dtypes: float64(13), int64(3), object(12)\n",
      "memory usage: 1.1+ MB\n"
     ]
    }
   ],
   "source": [
    "df = pd.read_csv('data/movie_metadata.csv')\n",
    "df.info()"
   ]
  },
  {
   "cell_type": "code",
   "execution_count": 3,
   "metadata": {},
   "outputs": [],
   "source": [
    " pd.options.display.max_rows = 100"
   ]
  },
  {
   "cell_type": "code",
   "execution_count": 8,
   "metadata": {
    "collapsed": true,
    "jupyter": {
     "outputs_hidden": true
    }
   },
   "outputs": [
    {
     "data": {
      "text/plain": [
       "2009.0    260\n",
       "2014.0    252\n",
       "2006.0    239\n",
       "2013.0    237\n",
       "2010.0    230\n",
       "2015.0    226\n",
       "2011.0    225\n",
       "2008.0    225\n",
       "2012.0    221\n",
       "2005.0    221\n",
       "2004.0    214\n",
       "2002.0    209\n",
       "2007.0    204\n",
       "2001.0    188\n",
       "2000.0    171\n",
       "2003.0    169\n",
       "1999.0    168\n",
       "1998.0    134\n",
       "1997.0    118\n",
       "2016.0    106\n",
       "1996.0     99\n",
       "1995.0     70\n",
       "1994.0     54\n",
       "1993.0     48\n",
       "1992.0     34\n",
       "1981.0     33\n",
       "1989.0     33\n",
       "1987.0     32\n",
       "1991.0     31\n",
       "1988.0     31\n",
       "1984.0     31\n",
       "1982.0     30\n",
       "1990.0     30\n",
       "1985.0     29\n",
       "1986.0     26\n",
       "1980.0     24\n",
       "1983.0     22\n",
       "1978.0     16\n",
       "1977.0     16\n",
       "1979.0     16\n",
       "1970.0     12\n",
       "1971.0     11\n",
       "1968.0     11\n",
       "1969.0     10\n",
       "1964.0     10\n",
       "1976.0     10\n",
       "1973.0      9\n",
       "1974.0      9\n",
       "1972.0      9\n",
       "1963.0      8\n",
       "1962.0      8\n",
       "1965.0      8\n",
       "1966.0      6\n",
       "1975.0      6\n",
       "1940.0      5\n",
       "1954.0      5\n",
       "1961.0      5\n",
       "1953.0      4\n",
       "1967.0      4\n",
       "1952.0      4\n",
       "1945.0      4\n",
       "1960.0      3\n",
       "1951.0      3\n",
       "1948.0      3\n",
       "1946.0      3\n",
       "1939.0      3\n",
       "1959.0      3\n",
       "1956.0      3\n",
       "1947.0      3\n",
       "1955.0      2\n",
       "1936.0      2\n",
       "1929.0      2\n",
       "1949.0      2\n",
       "1957.0      2\n",
       "1933.0      2\n",
       "1937.0      2\n",
       "1942.0      2\n",
       "1938.0      2\n",
       "1941.0      1\n",
       "1925.0      1\n",
       "1932.0      1\n",
       "1920.0      1\n",
       "1934.0      1\n",
       "1950.0      1\n",
       "1943.0      1\n",
       "1916.0      1\n",
       "1930.0      1\n",
       "1944.0      1\n",
       "1958.0      1\n",
       "1935.0      1\n",
       "1927.0      1\n",
       "Name: title_year, dtype: int64"
      ]
     },
     "execution_count": 8,
     "metadata": {},
     "output_type": "execute_result"
    }
   ],
   "source": [
    "df['title_year'].value_counts()"
   ]
  },
  {
   "cell_type": "code",
   "execution_count": 17,
   "metadata": {},
   "outputs": [
    {
     "data": {
      "image/png": "[encoded data removed]",
      "text/plain": [
       "<Figure size 432x288 with 1 Axes>"
      ]
     },
     "metadata": {
      "needs_background": "light"
     },
     "output_type": "display_data"
    }
   ],
   "source": [
    "plt.figure()\n",
    "plt.hist(df['title_year'], bins=100)\n",
    "plt.show()"
   ]
  },
  {
   "cell_type": "code",
   "execution_count": null,
   "metadata": {},
   "outputs": [],
   "source": []
  }
 ],
 "metadata": {
  "kernelspec": {
   "display_name": "Python 3",
   "language": "python",
   "name": "python3"
  },
  "language_info": {
   "codemirror_mode": {
    "name": "ipython",
    "version": 3
   },
   "file_extension": ".py",
   "mimetype": "text/x-python",
   "name": "python",
   "nbconvert_exporter": "python",
   "pygments_lexer": "ipython3",
   "version": "3.7.6"
  }
 },
 "nbformat": 4,
 "nbformat_minor": 4
}
